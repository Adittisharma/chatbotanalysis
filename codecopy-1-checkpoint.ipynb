{
 "cells": [
  {
   "cell_type": "code",
   "execution_count": 3,
   "source": [
    "import numpy as np\r\n",
    "import tensorflow as tf\r\n",
    "import tflearn\r\n",
    "import random\r\n",
    "\r\n",
    "#Usde to for Contextualisation and Other NLP Tasks.\r\n",
    "\r\n",
    "\r\n",
    "#Other\r\n",
    "import pandas as pd\r\n",
    "\r\n",
    "import json\r\n",
    "import pickle\r\n",
    "import warnings\r\n",
    "warnings.filterwarnings(\"ignore\")"
   ],
   "outputs": [],
   "metadata": {}
  },
  {
   "cell_type": "code",
   "execution_count": null,
   "source": [
    "import nltk\r\n",
    "nltk.download('all')\r\n",
    "from nltk.stem.lancaster import LancasterStemmer\r\n",
    "stemmer = LancasterStemmer()"
   ],
   "outputs": [],
   "metadata": {}
  },
  {
   "cell_type": "code",
   "execution_count": null,
   "source": [
    "#df = pd.read_csv (\"inputdata.csv\")\r\n",
    "#df.head()\r\n",
    "#csv_dict_reader=csv.DictReader(inputdata.csv)"
   ],
   "outputs": [],
   "metadata": {}
  },
  {
   "cell_type": "code",
   "execution_count": 4,
   "source": [
    "pip install nltk"
   ],
   "outputs": [
    {
     "output_type": "stream",
     "name": "stdout",
     "text": [
      "Requirement already satisfied: nltk in c:\\users\\dell\\anaconda3\\lib\\site-packages (3.5)\n",
      "Requirement already satisfied: joblib in c:\\users\\dell\\anaconda3\\lib\\site-packages (from nltk) (0.17.0)\n",
      "Requirement already satisfied: regex in c:\\users\\dell\\anaconda3\\lib\\site-packages (from nltk) (2020.10.15)\n",
      "Requirement already satisfied: click in c:\\users\\dell\\anaconda3\\lib\\site-packages (from nltk) (7.1.2)\n",
      "Requirement already satisfied: tqdm in c:\\users\\dell\\anaconda3\\lib\\site-packages (from nltk) (4.50.2)\n",
      "Note: you may need to restart the kernel to use updated packages.\n"
     ]
    }
   ],
   "metadata": {}
  },
  {
   "cell_type": "code",
   "execution_count": null,
   "source": [
    "pip install tensorflow\r\n"
   ],
   "outputs": [],
   "metadata": {
    "collapsed": true
   }
  },
  {
   "cell_type": "code",
   "execution_count": 6,
   "source": [
    "pip install tflearn"
   ],
   "outputs": [
    {
     "output_type": "stream",
     "name": "stdout",
     "text": [
      "Requirement already satisfied: tflearn in c:\\users\\dell\\anaconda3\\lib\\site-packages (0.5.0)\n",
      "Requirement already satisfied: numpy in c:\\users\\dell\\anaconda3\\lib\\site-packages (from tflearn) (1.19.3)\n",
      "Requirement already satisfied: Pillow in c:\\users\\dell\\anaconda3\\lib\\site-packages (from tflearn) (8.0.1)\n",
      "Requirement already satisfied: six in c:\\users\\dell\\anaconda3\\lib\\site-packages (from tflearn) (1.15.0)\n",
      "Note: you may need to restart the kernel to use updated packages.\n"
     ]
    }
   ],
   "metadata": {}
  },
  {
   "cell_type": "code",
   "execution_count": 16,
   "source": [
    "import json\r\n",
    "with open('intents.json') as data:\r\n",
    "  intentss = json.load(data)\r\n",
    "intentss\r\n"
   ],
   "outputs": [
    {
     "output_type": "execute_result",
     "data": {
      "text/plain": [
       "{'intents': [{'tag': 'greeting',\n",
       "   'patterns': ['Hiii',\n",
       "    'How are you',\n",
       "    'Is anyone there?',\n",
       "    'Hello',\n",
       "    'Good day'],\n",
       "   'responses': ['Hello, thanks for visiting',\n",
       "    'Good to see you again',\n",
       "    'Hi there, how can I help?'],\n",
       "   'context_set': ''},\n",
       "  {'tag': 'goodbye',\n",
       "   'patterns': ['Bye', 'See you later', 'Goodbye'],\n",
       "   'responses': ['See you later, thanks for visiting',\n",
       "    'Have a nice day',\n",
       "    'Bye! Come back again soon.']}]}"
      ]
     },
     "metadata": {},
     "execution_count": 16
    }
   ],
   "metadata": {}
  },
  {
   "cell_type": "code",
   "execution_count": 27,
   "source": [
    "words = []\r\n",
    "classes = []\r\n",
    "documents = []\r\n",
    "ignore_words = ['?']\r\n",
    "#Looping through the Intents to Convert them to words, classes, documents and ignore_words\r\n",
    "for intent in intentss['intents']:\r\n",
    "    for pattern in intent['patterns']:\r\n",
    "        # tokenize each word in the sentence\r\n",
    "        w = nltk.word_tokenize(pattern)\r\n",
    "        \r\n",
    "        # add to our words list\r\n",
    "        words.extend(w)\r\n",
    "        # add to documents in our corpus\r\n",
    "        documents.append((w, intent['tag']))\r\n",
    "        # add to our classes list\r\n",
    "        if intent['tag'] not in classes:\r\n",
    "            classes.append(intent['tag'])\r\n",
    "print(w)\r\n",
    "print(classes)\r\n",
    "print(documents)\r\n",
    "            "
   ],
   "outputs": [
    {
     "output_type": "stream",
     "name": "stdout",
     "text": [
      "['Goodbye']\n",
      "['greeting', 'goodbye']\n",
      "[(['Hiii'], 'greeting'), (['How', 'are', 'you'], 'greeting'), (['Is', 'anyone', 'there', '?'], 'greeting'), (['Hello'], 'greeting'), (['Good', 'day'], 'greeting'), (['Bye'], 'goodbye'), (['See', 'you', 'later'], 'goodbye'), (['Goodbye'], 'goodbye')]\n"
     ]
    }
   ],
   "metadata": {}
  },
  {
   "cell_type": "code",
   "execution_count": 30,
   "source": [
    "words = [stemmer.stem(w.lower()) for w in words if w not in ignore_words]\r\n",
    "words = sorted(list(set(words)))\r\n",
    "\r\n",
    "# remove duplicates\r\n",
    "classes = sorted(list(set(classes)))\r\n",
    "print(classes)\r\n",
    "print(words)"
   ],
   "outputs": [
    {
     "output_type": "stream",
     "name": "stdout",
     "text": [
      "['goodbye', 'greeting']\n",
      "['anyon', 'ar', 'bye', 'day', 'good', 'goodby', 'hello', 'hii', 'how', 'is', 'lat', 'see', 'ther', 'you']\n"
     ]
    }
   ],
   "metadata": {}
  },
  {
   "cell_type": "code",
   "execution_count": 34,
   "source": [
    "training = []\r\n",
    "output = []\r\n",
    "output_empty = [0] * len(classes)\r\n",
    "\r\n",
    "#Creating Traning Set, Bag of Words for our Model\r\n",
    "for doc in documents:\r\n",
    "    # initialize our bag of words\r\n",
    "    bag = []\r\n",
    "    # list of tokenized words for the pattern\r\n",
    "    pattern_words = doc[0]\r\n",
    "    # stem each word\r\n",
    "    pattern_words = [stemmer.stem(word.lower()) for word in pattern_words]\r\n",
    "    # create our bag of words array\r\n",
    "    for w in words:\r\n",
    "        bag.append(1) if w in pattern_words else bag.append(0)\r\n",
    "\r\n",
    "    # output is a '0' for each tag and '1' for current tag\r\n",
    "    output_row = list(output_empty)\r\n",
    "    output_row[classes.index(doc[1])] = 1\r\n",
    "\r\n",
    "    training.append([bag, output_row]) \r\n",
    "#print(training)\r\n",
    "#print(output)\r\n",
    "print(bag)"
   ],
   "outputs": [
    {
     "output_type": "stream",
     "name": "stdout",
     "text": [
      "[0, 0, 0, 0, 0, 1, 0, 0, 0, 0, 0, 0, 0, 0]\n"
     ]
    }
   ],
   "metadata": {}
  },
  {
   "cell_type": "code",
   "execution_count": 38,
   "source": [
    "#Shuffling Randomly and Converting into Numpy Array for Faster Processing.\r\n",
    "random.shuffle(training)\r\n",
    "training = np.array(training)\r\n",
    "\r\n",
    "#Creating Train and Test Lists.\r\n",
    "train_x = list(training[:,0])\r\n",
    "train_y = list(training[:,1])\r\n",
    "#Building Neural Network for Out Chatbot to be Contextual.\r\n",
    "#Resetting graph data.\r\n",
    "#tf.reset_default_graph()      this function is deprecated --> giving no attribute error\r\n",
    "tf.compat.v1.reset_default_graph()\r\n",
    "print(train_x)\r\n",
    "print(train_y)"
   ],
   "outputs": [
    {
     "output_type": "stream",
     "name": "stdout",
     "text": [
      "[[0, 0, 0, 1, 1, 0, 0, 0, 0, 0, 0, 0, 0, 0], [0, 0, 0, 1, 1, 0, 0, 0, 0, 0, 0, 0, 0, 0], [0, 0, 0, 1, 1, 0, 0, 0, 0, 0, 0, 0, 0, 0], [0, 0, 0, 1, 1, 0, 0, 0, 0, 0, 0, 0, 0, 0], [0, 0, 0, 1, 1, 0, 0, 0, 0, 0, 0, 0, 0, 0], [0, 0, 0, 1, 1, 0, 0, 0, 0, 0, 0, 0, 0, 0], [0, 0, 0, 1, 1, 0, 0, 0, 0, 0, 0, 0, 0, 0], [0, 0, 0, 0, 0, 0, 0, 0, 0, 0, 1, 1, 0, 1]]\n",
      "[[0, 1], [0, 1], [0, 1], [0, 1], [0, 1], [0, 1], [0, 1], [1, 0]]\n"
     ]
    }
   ],
   "metadata": {}
  },
  {
   "cell_type": "code",
   "execution_count": 39,
   "source": [
    "#training the bot\r\n",
    "\r\n",
    "    \r\n",
    "net = tflearn.input_data(shape=[None, len(train_x[0])])\r\n",
    "net = tflearn.fully_connected(net, 8)\r\n",
    "net = tflearn.fully_connected(net, 8)\r\n",
    "net = tflearn.fully_connected(net, len(train_y[0]), activation='softmax')\r\n",
    "net = tflearn.regression(net)\r\n",
    "model = tflearn.DNN(net, tensorboard_dir='tflearn_logs')\r\n",
    "print(model)\r\n"
   ],
   "outputs": [
    {
     "output_type": "stream",
     "name": "stdout",
     "text": [
      "<tflearn.models.dnn.DNN object at 0x000001DA9507DCA0>\n"
     ]
    }
   ],
   "metadata": {}
  },
  {
   "cell_type": "code",
   "execution_count": null,
   "source": [
    "model.fit(train_x, train_y, n_epoch=1000, batch_size=8, show_metric=True)\r\n",
    "model.save('model.tflearn')"
   ],
   "outputs": [],
   "metadata": {}
  },
  {
   "cell_type": "code",
   "execution_count": 41,
   "source": [
    "#saving pickle\r\n",
    "pickle.dump( {'words':words, 'classes':classes, 'train_x':train_x, 'train_y':train_y}, open( \"training_data\", \"wb\" ) )\r\n",
    "#loading pickle\r\n",
    "data = pickle.load( open( \"training_data\", \"rb\" ) )\r\n",
    "words = data['words']\r\n",
    "classes = data['classes']\r\n",
    "train_x = data['train_x']\r\n",
    "train_y = data['train_y']\r\n",
    "\r\n",
    "\r\n",
    "#with open('intents.json') as json_data:\r\n",
    "    #intents = json.load(json_data)\r\n",
    "df = pd.read_csv (\"inputdata.csv\")    \r\n",
    "    \r\n",
    "    \r\n",
    "\r\n",
    "# load our saved model\r\n",
    "model.load('./model.tflearn')\r\n",
    "print(train_x)\r\n",
    "print(train_y)"
   ],
   "outputs": [
    {
     "output_type": "stream",
     "name": "stdout",
     "text": [
      "INFO:tensorflow:Restoring parameters from C:\\Users\\DeLL\\Desktop\\botupdate\\model.tflearn\n",
      "[[0, 0, 0, 1, 1, 0, 0, 0, 0, 0, 0, 0, 0, 0], [0, 0, 0, 1, 1, 0, 0, 0, 0, 0, 0, 0, 0, 0], [0, 0, 0, 1, 1, 0, 0, 0, 0, 0, 0, 0, 0, 0], [0, 0, 0, 1, 1, 0, 0, 0, 0, 0, 0, 0, 0, 0], [0, 0, 0, 1, 1, 0, 0, 0, 0, 0, 0, 0, 0, 0], [0, 0, 0, 1, 1, 0, 0, 0, 0, 0, 0, 0, 0, 0], [0, 0, 0, 1, 1, 0, 0, 0, 0, 0, 0, 0, 0, 0], [0, 0, 0, 0, 0, 0, 0, 0, 0, 0, 1, 1, 0, 1]]\n",
      "[[0, 1], [0, 1], [0, 1], [0, 1], [0, 1], [0, 1], [0, 1], [1, 0]]\n"
     ]
    }
   ],
   "metadata": {}
  },
  {
   "cell_type": "code",
   "execution_count": 24,
   "source": [
    "#loading pickle\r\n",
    "data = pickle.load( open( \"training_data\", \"rb\" ) )\r\n",
    "words = data['words']\r\n",
    "classes = data['classes']\r\n",
    "train_x = data['train_x']\r\n",
    "train_y = data['train_y']\r\n",
    "\r\n",
    "\r\n",
    "with open('intents.json') as data:\r\n",
    "    intentss = json.load(data)\r\n",
    "#df = pd.read_csv (\"inputdata.csv\")    \r\n",
    "    \r\n",
    "    \r\n",
    "\r\n",
    "# load our saved model\r\n",
    "model.load('./model.tflearn')"
   ],
   "outputs": [
    {
     "output_type": "stream",
     "name": "stdout",
     "text": [
      "INFO:tensorflow:Restoring parameters from C:\\Users\\DeLL\\Desktop\\botupdate\\model.tflearn\n"
     ]
    }
   ],
   "metadata": {}
  },
  {
   "cell_type": "code",
   "execution_count": 42,
   "source": [
    "def clean_up_sentence(sentence):\r\n",
    "    # It Tokenize or Break it into the constituents parts of Sentense.\r\n",
    "    sentence_words = nltk.word_tokenize(sentence)\r\n",
    "    # Stemming means to find the root of the word.\r\n",
    "    sentence_words = [stemmer.stem(word.lower()) for word in sentence_words]\r\n",
    "    return sentence_words\r\n",
    "\r\n",
    "# Return the Array of Bag of Words: True or False and 0 or 1 for each word of bag that exists in the Sentence\r\n",
    "def bow(sentence, words, show_details=False):\r\n",
    "    sentence_words = clean_up_sentence(sentence)\r\n",
    "    bag = [0]*len(words)\r\n",
    "    for s in sentence_words:\r\n",
    "        for i,w in enumerate(words):\r\n",
    "            if w == s:\r\n",
    "                bag[i] = 1\r\n",
    "                if show_details:\r\n",
    "                    print (\"found in bag: %s\" %w)\r\n",
    "    return(np.array(bag))\r\n",
    "\r\n",
    "ERROR_THRESHOLD = 0.25\r\n",
    "print(\"ERROR_THRESHOLD = 0.25\")\r\n",
    "\r\n",
    "def classify(sentence):\r\n",
    "    # Prediction or To Get the Posibility or Probability from the Model\r\n",
    "    results = model.predict([bow(sentence, words)])[0]\r\n",
    "    # Exclude those results which are Below Threshold\r\n",
    "    results = [[i,r] for i,r in enumerate(results) if r>ERROR_THRESHOLD]\r\n",
    "    # Sorting is Done because heigher Confidence Answer comes first.\r\n",
    "    results.sort(key=lambda x: x[1], reverse=True)\r\n",
    "    return_list = []\r\n",
    "    for r in results:\r\n",
    "        return_list.append((classes[r[0]], r[1])) #Tuppl -> Intent and Probability\r\n",
    "    return return_list\r\n",
    "\r\n",
    "def response(sentence, userID='123', show_details=False):\r\n",
    "    results = classify(sentence)\r\n",
    "    # That Means if Classification is Done then Find the Matching Tag.\r\n",
    "    if results:\r\n",
    "        # Long Loop to get the Result.\r\n",
    "        while results:\r\n",
    "            for i in intentss['intents']:\r\n",
    "                # Tag Finding\r\n",
    "                if i['tag'] == results[0][0]:\r\n",
    "                    # Random Response from High Order Probabilities\r\n",
    "                    return print(random.choice(i['responses']))\r\n",
    "    #return (random.choice(i['responses']))\r\n",
    "\r\n",
    "            results.pop(0)\r\n",
    "    return (random.choice(i['responses']))\r\n"
   ],
   "outputs": [
    {
     "output_type": "stream",
     "name": "stdout",
     "text": [
      "ERROR_THRESHOLD = 0.25\n"
     ]
    }
   ],
   "metadata": {}
  },
  {
   "cell_type": "code",
   "execution_count": null,
   "source": [
    "while True:\r\n",
    "    input_data = input(\"You- \")\r\n",
    "    #print(input_data)\r\n",
    "    answer = response(input_data)\r\n",
    "    answer"
   ],
   "outputs": [
    {
     "output_type": "stream",
     "name": "stdout",
     "text": [
      "You- hiii\n",
      "Good to see you again\n"
     ]
    }
   ],
   "metadata": {}
  },
  {
   "cell_type": "code",
   "execution_count": null,
   "source": [],
   "outputs": [],
   "metadata": {}
  }
 ],
 "metadata": {
  "kernelspec": {
   "display_name": "Python 3",
   "language": "python",
   "name": "python3"
  },
  "language_info": {
   "codemirror_mode": {
    "name": "ipython",
    "version": 3
   },
   "file_extension": ".py",
   "mimetype": "text/x-python",
   "name": "python",
   "nbconvert_exporter": "python",
   "pygments_lexer": "ipython3",
   "version": "3.8.5"
  }
 },
 "nbformat": 4,
 "nbformat_minor": 4
}